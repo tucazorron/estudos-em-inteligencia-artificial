{
  "nbformat": 4,
  "nbformat_minor": 0,
  "metadata": {
    "colab": {
      "name": "Untitled0.ipynb",
      "provenance": []
    },
    "kernelspec": {
      "name": "python3",
      "display_name": "Python 3",
      "language": "python"
    }
  },
  "cells": [
    {
      "source": [
        "## Libraries"
      ],
      "cell_type": "markdown",
      "metadata": {}
    },
    {
      "cell_type": "code",
      "metadata": {
        "id": "s3tKGcLkrmvV"
      },
      "source": [
        "!pip install numpy\n",
        "!pip install pandas\n",
        "!pip install numpy\n",
        "!pip install matplotlib\n",
        "\n",
        "import matplotlib.pyplot as plt\n",
        "\n",
        "import sklearn.metrics as sklm\n",
        "import copy\n",
        "import json\n",
        "\n",
        "import pandas as pd\n",
        "import numpy as np"
      ],
      "execution_count": 133,
      "outputs": [
        {
          "output_type": "stream",
          "name": "stdout",
          "text": [
            "Defaulting to user installation because normal site-packages is not writeable\n",
            "Requirement already satisfied: numpy in /home/oh/.local/lib/python3.9/site-packages (1.20.1)\n",
            "Defaulting to user installation because normal site-packages is not writeable\n",
            "Requirement already satisfied: pandas in /home/oh/.local/lib/python3.9/site-packages (1.2.2)\n",
            "Requirement already satisfied: pytz>=2017.3 in /home/oh/.local/lib/python3.9/site-packages (from pandas) (2021.1)\n",
            "Requirement already satisfied: python-dateutil>=2.7.3 in /home/oh/.local/lib/python3.9/site-packages (from pandas) (2.8.1)\n",
            "Requirement already satisfied: numpy>=1.16.5 in /home/oh/.local/lib/python3.9/site-packages (from pandas) (1.20.1)\n",
            "Requirement already satisfied: six>=1.5 in /usr/lib/python3.9/site-packages (from python-dateutil>=2.7.3->pandas) (1.15.0)\n",
            "Defaulting to user installation because normal site-packages is not writeable\n",
            "Requirement already satisfied: numpy in /home/oh/.local/lib/python3.9/site-packages (1.20.1)\n",
            "Defaulting to user installation because normal site-packages is not writeable\n",
            "Requirement already satisfied: matplotlib in /home/oh/.local/lib/python3.9/site-packages (3.3.4)\n",
            "Requirement already satisfied: cycler>=0.10 in /home/oh/.local/lib/python3.9/site-packages (from matplotlib) (0.10.0)\n",
            "Requirement already satisfied: kiwisolver>=1.0.1 in /home/oh/.local/lib/python3.9/site-packages (from matplotlib) (1.3.1)\n",
            "Requirement already satisfied: pyparsing!=2.0.4,!=2.1.2,!=2.1.6,>=2.0.3 in /usr/lib/python3.9/site-packages (from matplotlib) (2.4.7)\n",
            "Requirement already satisfied: pillow>=6.2.0 in /usr/lib/python3.9/site-packages (from matplotlib) (8.1.2)\n",
            "Requirement already satisfied: numpy>=1.15 in /home/oh/.local/lib/python3.9/site-packages (from matplotlib) (1.20.1)\n",
            "Requirement already satisfied: python-dateutil>=2.1 in /home/oh/.local/lib/python3.9/site-packages (from matplotlib) (2.8.1)\n",
            "Requirement already satisfied: six in /usr/lib/python3.9/site-packages (from cycler>=0.10->matplotlib) (1.15.0)\n",
            "Requirement already satisfied: six in /usr/lib/python3.9/site-packages (from cycler>=0.10->matplotlib) (1.15.0)\n"
          ]
        }
      ]
    },
    {
      "source": [
        "## Utils"
      ],
      "cell_type": "markdown",
      "metadata": {}
    },
    {
      "cell_type": "code",
      "execution_count": 134,
      "metadata": {},
      "outputs": [],
      "source": [
        "PATH = \"./\""
      ]
    },
    {
      "cell_type": "code",
      "execution_count": 135,
      "metadata": {},
      "outputs": [],
      "source": [
        "def retrieve_data(flow_interval):\n",
        "    path = \"{0}dataset/dataset_flow_{1}.csv\".format(PATH, flow_interval)\n",
        "    print(PATH)\n",
        "    data = pd.read_csv(path, ';')\n",
        "    \n",
        "    data['Flow'].apply(int)\n",
        "    data['AveSpeed'].apply(float)\n",
        "    data['Density'].apply(float)\n",
        "    data['Sunday'].apply(int)\n",
        "    data['Monday'].apply(int)\n",
        "    data['Tuesday'].apply(int)\n",
        "    data['Wednesday'].apply(int)\n",
        "    data['Thursday'].apply(int)\n",
        "    data['Friday'].apply(int)\n",
        "    data['Saturday'].apply(int)\n",
        "      \n",
        "    return data"
      ]
    },
    {
      "cell_type": "code",
      "execution_count": 136,
      "metadata": {},
      "outputs": [],
      "source": [
        "def print_json (obj):\n",
        "  print(json.dumps(obj, sort_keys=True, indent=4))"
      ]
    },
    {
      "cell_type": "code",
      "execution_count": 137,
      "metadata": {},
      "outputs": [],
      "source": [
        "def store(obj, path, name):\n",
        "  with open(\"{0}{1}/{2}.json\".format(PATH, path, name), 'w') as json_file:\n",
        "    json.dump(obj, json_file, sort_keys=True, indent=4)"
      ]
    },
    {
      "source": [
        "## Testing"
      ],
      "cell_type": "markdown",
      "metadata": {}
    },
    {
      "cell_type": "code",
      "execution_count": 138,
      "metadata": {},
      "outputs": [],
      "source": [
        "# Model Parameters\n",
        "FLOW_INTERVAL = 150 # the interval size for each flow\n",
        "ALPHA = 0.8"
      ]
    },
    {
      "cell_type": "code",
      "execution_count": 139,
      "metadata": {},
      "outputs": [],
      "source": [
        "def simple_exponential_smoothing(X):\n",
        "  global result_data\n",
        "  \n",
        "  name = \"SES\"\n",
        "  expected, observed = [], []\n",
        "\n",
        "  X_test = np.array_split(X, 10)\n",
        "  F = X_test[8][-1]\n",
        "  for x in X_test[9]:\n",
        "    F1 = ALPHA * x + (1 - ALPHA) * F\n",
        "    \n",
        "    expected.append(int(x))\n",
        "    observed.append(float(F))\n",
        "    F = F1\n",
        "  \n",
        "  result_data['results']['RMSE'] = sklm.mean_squared_error(expected, observed, squared=False)\n",
        "  result_data['results']['expected'] = expected\n",
        "  result_data['results']['observed'] = observed\n",
        "  store(result_data, \"results\", \"{0}_alpha_{1}\".format(name, ALPHA))"
      ]
    },
    {
      "cell_type": "code",
      "execution_count": 140,
      "metadata": {},
      "outputs": [
        {
          "output_type": "stream",
          "name": "stdout",
          "text": [
            "./\n"
          ]
        }
      ],
      "source": [
        "global result_data\n",
        "  \n",
        "result_data = {\n",
        "    'results': {},\n",
        "    'meta': {\n",
        "      'FLOW_INTERVAL': FLOW_INTERVAL,\n",
        "    }\n",
        "}\n",
        "\n",
        "data = retrieve_data(FLOW_INTERVAL)\n",
        "sequence = np.array(data['Flow'])\n",
        "simple_exponential_smoothing(sequence)"
      ]
    },
    {
      "cell_type": "code",
      "execution_count": 141,
      "metadata": {},
      "outputs": [
        {
          "output_type": "execute_result",
          "data": {
            "text/plain": [
              "8.604186284879553"
            ]
          },
          "metadata": {},
          "execution_count": 141
        }
      ],
      "source": [
        "result_data['results']['RMSE']"
      ]
    },
    {
      "cell_type": "code",
      "execution_count": 142,
      "metadata": {},
      "outputs": [],
      "source": [
        "def plot_prediction (Y, Y_hat, title):\n",
        "  \"\"\" Plot Prediction\n",
        "  \n",
        "  Plot the prediction (Flow x Time) of what was expected and what\n",
        "  was predicted.\n",
        "  \"\"\"\n",
        "  name = f\"{title} (alpha {ALPHA})\"\n",
        "  path = f\"plots/prediction/{name}\"\n",
        "    \n",
        "  plt.plot(Y)\n",
        "  plt.plot(Y_hat)\n",
        "  plt.title(f\"Predição do Modelo {title}\")\n",
        "  plt.ylabel('Fluxo')\n",
        "  plt.xlabel('Tempo')\n",
        "  plt.legend(['esperado', 'observado'], loc='upper left')\n",
        "  plt.rcdefaults()\n",
        "\n",
        "  plt.savefig(path + \".png\", bbox_inches='tight')\n",
        "  # plt.savefig(path + \".pdf\")\n",
        "\n",
        "  plt.close('all')"
      ]
    },
    {
      "cell_type": "code",
      "execution_count": 143,
      "metadata": {},
      "outputs": [],
      "source": [
        "expected = result_data['results']['expected']\n",
        "observed = result_data['results']['observed']\n",
        "plot_prediction(expected, observed, \"SES\")"
      ]
    }
  ]
}