{
  "nbformat": 4,
  "nbformat_minor": 0,
  "metadata": {
    "colab": {
      "name": "Untitled0.ipynb",
      "provenance": []
    },
    "kernelspec": {
      "name": "python3",
      "display_name": "Python 3",
      "language": "python"
    }
  },
  "cells": [
    {
      "source": [
        "## Libraries"
      ],
      "cell_type": "markdown",
      "metadata": {}
    },
    {
      "cell_type": "code",
      "metadata": {
        "id": "s3tKGcLkrmvV"
      },
      "source": [
        "!pip install numpy\n",
        "!pip install pandas\n",
        "!pip install numpy\n",
        "!pip install matplotlib\n",
        "!pip install skll\n",
        "\n",
        "import matplotlib.pyplot as plt\n",
        "\n",
        "import sklearn.metrics as sklm\n",
        "import skll.metrics as skllm\n",
        "import copy\n",
        "import json\n",
        "\n",
        "import pandas as pd\n",
        "import numpy as np"
      ],
      "execution_count": 1,
      "outputs": [
        {
          "output_type": "stream",
          "name": "stdout",
          "text": [
            "Defaulting to user installation because normal site-packages is not writeable\n",
            "Requirement already satisfied: numpy in /home/oh/.local/lib/python3.9/site-packages (1.20.1)\n",
            "Defaulting to user installation because normal site-packages is not writeable\n",
            "Requirement already satisfied: pandas in /home/oh/.local/lib/python3.9/site-packages (1.2.2)\n",
            "Requirement already satisfied: python-dateutil>=2.7.3 in /home/oh/.local/lib/python3.9/site-packages (from pandas) (2.8.1)\n",
            "Requirement already satisfied: pytz>=2017.3 in /home/oh/.local/lib/python3.9/site-packages (from pandas) (2021.1)\n",
            "Requirement already satisfied: numpy>=1.16.5 in /home/oh/.local/lib/python3.9/site-packages (from pandas) (1.20.1)\n",
            "Requirement already satisfied: six>=1.5 in /usr/lib/python3.9/site-packages (from python-dateutil>=2.7.3->pandas) (1.15.0)\n",
            "Defaulting to user installation because normal site-packages is not writeable\n",
            "Requirement already satisfied: numpy in /home/oh/.local/lib/python3.9/site-packages (1.20.1)\n",
            "Defaulting to user installation because normal site-packages is not writeable\n",
            "Requirement already satisfied: matplotlib in /home/oh/.local/lib/python3.9/site-packages (3.3.4)\n",
            "Requirement already satisfied: numpy>=1.15 in /home/oh/.local/lib/python3.9/site-packages (from matplotlib) (1.20.1)\n",
            "Requirement already satisfied: pillow>=6.2.0 in /usr/lib/python3.9/site-packages (from matplotlib) (8.2.0)\n",
            "Requirement already satisfied: pyparsing!=2.0.4,!=2.1.2,!=2.1.6,>=2.0.3 in /usr/lib/python3.9/site-packages (from matplotlib) (2.4.7)\n",
            "Requirement already satisfied: cycler>=0.10 in /home/oh/.local/lib/python3.9/site-packages (from matplotlib) (0.10.0)\n",
            "Requirement already satisfied: kiwisolver>=1.0.1 in /home/oh/.local/lib/python3.9/site-packages (from matplotlib) (1.3.1)\n",
            "Requirement already satisfied: python-dateutil>=2.1 in /home/oh/.local/lib/python3.9/site-packages (from matplotlib) (2.8.1)\n",
            "Requirement already satisfied: six in /usr/lib/python3.9/site-packages (from cycler>=0.10->matplotlib) (1.15.0)\n",
            "Requirement already satisfied: six in /usr/lib/python3.9/site-packages (from cycler>=0.10->matplotlib) (1.15.0)\n",
            "Defaulting to user installation because normal site-packages is not writeable\n",
            "Requirement already satisfied: skll in /home/oh/.local/lib/python3.9/site-packages (2.5.0)\n",
            "Requirement already satisfied: numpy in /home/oh/.local/lib/python3.9/site-packages (from skll) (1.20.1)\n",
            "Requirement already satisfied: beautifulsoup4 in /home/oh/.local/lib/python3.9/site-packages (from skll) (4.9.3)\n",
            "Requirement already satisfied: joblib in /home/oh/.local/lib/python3.9/site-packages (from skll) (1.0.1)\n",
            "Requirement already satisfied: seaborn in /home/oh/.local/lib/python3.9/site-packages (from skll) (0.11.1)\n",
            "Requirement already satisfied: pandas in /home/oh/.local/lib/python3.9/site-packages (from skll) (1.2.2)\n",
            "Requirement already satisfied: ruamel.yaml in /home/oh/.local/lib/python3.9/site-packages (from skll) (0.17.4)\n",
            "Requirement already satisfied: scipy in /home/oh/.local/lib/python3.9/site-packages (from skll) (1.6.1)\n",
            "Requirement already satisfied: tabulate in /home/oh/.local/lib/python3.9/site-packages (from skll) (0.8.9)\n",
            "Requirement already satisfied: scikit-learn<=0.24.2,>=0.24.1 in /home/oh/.local/lib/python3.9/site-packages (from skll) (0.24.1)\n",
            "Requirement already satisfied: soupsieve>1.2 in /home/oh/.local/lib/python3.9/site-packages (from beautifulsoup4->skll) (2.2.1)\n",
            "Requirement already satisfied: python-dateutil>=2.7.3 in /home/oh/.local/lib/python3.9/site-packages (from pandas->skll) (2.8.1)\n",
            "Requirement already satisfied: numpy in /home/oh/.local/lib/python3.9/site-packages (from skll) (1.20.1)\n",
            "Requirement already satisfied: pytz>=2017.3 in /home/oh/.local/lib/python3.9/site-packages (from pandas->skll) (2021.1)\n",
            "Requirement already satisfied: six>=1.5 in /usr/lib/python3.9/site-packages (from python-dateutil>=2.7.3->pandas->skll) (1.15.0)\n",
            "Requirement already satisfied: ruamel.yaml.clib>=0.1.2 in /home/oh/.local/lib/python3.9/site-packages (from ruamel.yaml->skll) (0.2.2)\n",
            "Requirement already satisfied: scipy in /home/oh/.local/lib/python3.9/site-packages (from skll) (1.6.1)\n",
            "Requirement already satisfied: threadpoolctl>=2.0.0 in /home/oh/.local/lib/python3.9/site-packages (from scikit-learn<=0.24.2,>=0.24.1->skll) (2.1.0)\n",
            "Requirement already satisfied: numpy in /home/oh/.local/lib/python3.9/site-packages (from skll) (1.20.1)\n",
            "Requirement already satisfied: joblib in /home/oh/.local/lib/python3.9/site-packages (from skll) (1.0.1)\n",
            "Requirement already satisfied: numpy in /home/oh/.local/lib/python3.9/site-packages (from skll) (1.20.1)\n",
            "Requirement already satisfied: matplotlib>=2.2 in /home/oh/.local/lib/python3.9/site-packages (from seaborn->skll) (3.3.4)\n",
            "Requirement already satisfied: numpy in /home/oh/.local/lib/python3.9/site-packages (from skll) (1.20.1)\n",
            "Requirement already satisfied: scipy in /home/oh/.local/lib/python3.9/site-packages (from skll) (1.6.1)\n",
            "Requirement already satisfied: pandas in /home/oh/.local/lib/python3.9/site-packages (from skll) (1.2.2)\n",
            "Requirement already satisfied: pillow>=6.2.0 in /usr/lib/python3.9/site-packages (from matplotlib>=2.2->seaborn->skll) (8.2.0)\n",
            "Requirement already satisfied: kiwisolver>=1.0.1 in /home/oh/.local/lib/python3.9/site-packages (from matplotlib>=2.2->seaborn->skll) (1.3.1)\n",
            "Requirement already satisfied: numpy in /home/oh/.local/lib/python3.9/site-packages (from skll) (1.20.1)\n",
            "Requirement already satisfied: pyparsing!=2.0.4,!=2.1.2,!=2.1.6,>=2.0.3 in /usr/lib/python3.9/site-packages (from matplotlib>=2.2->seaborn->skll) (2.4.7)\n",
            "Requirement already satisfied: cycler>=0.10 in /home/oh/.local/lib/python3.9/site-packages (from matplotlib>=2.2->seaborn->skll) (0.10.0)\n",
            "Requirement already satisfied: python-dateutil>=2.7.3 in /home/oh/.local/lib/python3.9/site-packages (from pandas->skll) (2.8.1)\n",
            "Requirement already satisfied: six>=1.5 in /usr/lib/python3.9/site-packages (from python-dateutil>=2.7.3->pandas->skll) (1.15.0)\n"
          ]
        }
      ]
    },
    {
      "source": [
        "## Utils"
      ],
      "cell_type": "markdown",
      "metadata": {}
    },
    {
      "cell_type": "code",
      "execution_count": 2,
      "metadata": {},
      "outputs": [],
      "source": [
        "PATH = \"./\"\n",
        "ROOT_PATH = \"../../\""
      ]
    },
    {
      "cell_type": "code",
      "execution_count": 3,
      "metadata": {},
      "outputs": [],
      "source": [
        "def retrieve_data(flow_interval):\n",
        "    path = \"{0}dataset/dataset_flow_{1}.csv\".format(ROOT_PATH, flow_interval)\n",
        "    print(PATH)\n",
        "    data = pd.read_csv(path, ';')\n",
        "    \n",
        "    data['Flow'].apply(int)\n",
        "    data['AveSpeed'].apply(float)\n",
        "    data['Density'].apply(float)\n",
        "    data['Sunday'].apply(int)\n",
        "    data['Monday'].apply(int)\n",
        "    data['Tuesday'].apply(int)\n",
        "    data['Wednesday'].apply(int)\n",
        "    data['Thursday'].apply(int)\n",
        "    data['Friday'].apply(int)\n",
        "    data['Saturday'].apply(int)\n",
        "      \n",
        "    return data"
      ]
    },
    {
      "cell_type": "code",
      "execution_count": 4,
      "metadata": {},
      "outputs": [],
      "source": [
        "def print_json (obj):\n",
        "  print(json.dumps(obj, sort_keys=True, indent=4))"
      ]
    },
    {
      "cell_type": "code",
      "execution_count": 5,
      "metadata": {},
      "outputs": [],
      "source": [
        "def store(obj, path, name):\n",
        "  with open(\"{0}{1}/{2}.json\".format(PATH, path, name), 'w') as json_file:\n",
        "    json.dump(obj, json_file, sort_keys=True, indent=4)"
      ]
    },
    {
      "source": [
        "## Testing"
      ],
      "cell_type": "markdown",
      "metadata": {}
    },
    {
      "cell_type": "code",
      "execution_count": 6,
      "metadata": {},
      "outputs": [],
      "source": [
        "def plot_prediction (Y, Y_hat, title, alpha, gamma):\n",
        "  \"\"\" Plot Prediction\n",
        "  \n",
        "  Plot the prediction (Flow x Time) of what was expected and what\n",
        "  was predicted.\n",
        "  \"\"\"\n",
        "  alpha_dec = str(alpha - int(alpha)).split('.')[1]\n",
        "  gamma_dec = str(gamma - int(gamma)).split('.')[1]\n",
        "  name = f\"{title}_alpha_d{alpha_dec}_gamma_d{gamma_dec})\"\n",
        "  path = f\"plots/prediction/{name}\"\n",
        "    \n",
        "  plt.plot(Y)\n",
        "  plt.plot(Y_hat)\n",
        "  plt.title(f\"Predição do Modelo {title} (alpha {alpha}, gamma {gamma})\")\n",
        "  plt.ylabel('Fluxo')\n",
        "  plt.xlabel('Tempo')\n",
        "  plt.legend(['esperado', 'observado'], loc='upper left')\n",
        "  plt.rcdefaults()\n",
        "\n",
        "  plt.savefig(path + \".png\", bbox_inches='tight')\n",
        "  # plt.savefig(path + \".pdf\")\n",
        "\n",
        "  plt.close('all')"
      ]
    },
    {
      "cell_type": "code",
      "execution_count": 7,
      "metadata": {},
      "outputs": [],
      "source": [
        "# Model Parameters\n",
        "FLOW_INTERVAL = 150 # the interval size for each flow\n",
        "\n",
        "# from 0.0 to 1.0 in intervals of 0.01\n",
        "ALPHAS = np.arange(0.0, 1.0, 0.01).tolist() \n",
        "GAMMAS = np.arange(0.0, 1.0, 0.01).tolist()"
      ]
    },
    {
      "cell_type": "code",
      "execution_count": 8,
      "metadata": {},
      "outputs": [],
      "source": [
        "def double_exponential_smoothing(X, alpha, gamma):\n",
        "  global result_data\n",
        "  \n",
        "  name = \"DES\"\n",
        "  expected, observed = [], []\n",
        "  W = 1\n",
        "\n",
        "  X_test = np.array_split(X, 10)\n",
        "  F = X_test[8][-1]\n",
        "  Lm1 = F\n",
        "  bm1 = 0\n",
        "  for x in X_test[9]:\n",
        "    L = (alpha * x) + ( (1 - alpha) * (Lm1 + bm1) )\n",
        "    b = ( gamma * (L - Lm1) ) + ( (1 - gamma) * bm1 )\n",
        "    F1 = L + (b*W)\n",
        "    \n",
        "    expected.append(int(x))\n",
        "    observed.append(float(F))\n",
        "    F = F1\n",
        "    Lm1 = L\n",
        "    bm1 = b\n",
        "  \n",
        "  result_data['results']['RMSE'] = sklm.mean_squared_error(expected, observed, squared=False)\n",
        "  result_data['results']['MAE'] = sklm.mean_absolute_error(expected, observed)\n",
        "  result_data['results']['Kappa'] = skllm.kappa(expected, observed)\n",
        "  result_data['results']['expected'] = expected\n",
        "  result_data['results']['observed'] = observed\n",
        "  alpha_dec = str(alpha - int(alpha)).split('.')[1]\n",
        "  gamma_dec = str(gamma - int(gamma)).split('.')[1]\n",
        "  #store(result_data, \"results\", f\"{name}_alpha_d{alpha_dec}_gamma_d{gamma_dec}\")"
      ]
    },
    {
      "cell_type": "code",
      "execution_count": 9,
      "metadata": {},
      "outputs": [],
      "source": [
        "def eval_results(alpha, gamma):\n",
        "  result = {\n",
        "      \"Alpha\": alpha,\n",
        "      \"Gamma\": gamma,\n",
        "      \"RMSE\": result_data['results']['RMSE'],\n",
        "      \"MAE\": result_data['results']['MAE'],\n",
        "      \"Kappa\": result_data['results']['Kappa']\n",
        "  }\n",
        "\n",
        "  if result['RMSE'] < current_best[\"RMSE\"]:\n",
        "      best_rmse.append(result)\n",
        "      current_best[\"RMSE\"] = result['RMSE']\n",
        "  \n",
        "  if result['MAE'] < current_best[\"MAE\"]:\n",
        "      best_mae.append(result)\n",
        "      current_best[\"MAE\"] = result['MAE']\n",
        "\n",
        "  if result['Kappa'] > current_best[\"Kappa\"]:\n",
        "      best_kappa.append(result)\n",
        "      current_best[\"Kappa\"] = result['Kappa']"
      ]
    },
    {
      "cell_type": "code",
      "execution_count": 10,
      "metadata": {
        "tags": []
      },
      "outputs": [
        {
          "output_type": "stream",
          "name": "stdout",
          "text": [
            "./\n",
            "Progress: 100%"
          ]
        }
      ],
      "source": [
        "global result_data\n",
        "global current_best\n",
        "global best_rmse\n",
        "global best_mae\n",
        "global best_kappa\n",
        "\n",
        "data = retrieve_data(FLOW_INTERVAL)\n",
        "sequence = np.array(data['Flow'])\n",
        "\n",
        "best_rmse = []\n",
        "best_mae = []\n",
        "best_kappa = []\n",
        "\n",
        "current_best = {\n",
        "  \"RMSE\": 1000,\n",
        "  \"MAE\": 1000,\n",
        "  \"Kappa\": -1,\n",
        "}\n",
        "\n",
        "progress = -1\n",
        "for alpha, gamma in [(x,y) for x in ALPHAS for y in GAMMAS]:\n",
        "  result_data = {\n",
        "    'results': {},\n",
        "    'meta': {\n",
        "      'FLOW_INTERVAL': FLOW_INTERVAL,\n",
        "    }\n",
        "  }\n",
        "  \n",
        "  double_exponential_smoothing(sequence, alpha, gamma)\n",
        "\n",
        "  eval_results(alpha, gamma)\n",
        "  \n",
        "  if progress < alpha:\n",
        "    print(f'\\rProgress: {int(alpha*100) + 1}%', end=\"\")\n",
        "    progress = alpha\n",
        "  \n",
        "  #expected = result_data['results']['expected']\n",
        "  #observed = result_data['results']['observed']\n",
        "  #plot_prediction(expected, observed, \"DES\", alpha, gamma)"
      ]
    },
    {
      "cell_type": "code",
      "execution_count": 11,
      "metadata": {},
      "outputs": [],
      "source": [
        "store(best_rmse, \"results\", \"best_rmse\")\n",
        "store(best_mae, \"results\", \"best_mae\")\n",
        "store(best_kappa, \"results\", \"best_kappa\")"
      ]
    }
  ]
}